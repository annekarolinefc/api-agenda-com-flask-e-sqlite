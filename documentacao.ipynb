{
 "cells": [
  {
   "cell_type": "markdown",
   "metadata": {},
   "source": [
    "# API de Agenda de Contatos"
   ]
  },
  {
   "cell_type": "markdown",
   "metadata": {},
   "source": [
    "## Sobre o Projeto\n",
    "\n",
    "O projeto é referente a uma agenda de contatos. \n",
    "Esse projeto foi proposto na matéria de Sistemas Distribuidos do Curso de Análise e Desenvolvimento de sistema da UNA e visa construir uma APIRestful (utilizando flask) para controlar uma agenda de contatos."
   ]
  },
  {
   "cell_type": "markdown",
   "metadata": {},
   "source": [
    "## Resolução"
   ]
  },
  {
   "cell_type": "markdown",
   "metadata": {},
   "source": [
    "### Criação da Base de Dados"
   ]
  },
  {
   "cell_type": "code",
   "execution_count": null,
   "metadata": {},
   "outputs": [],
   "source": [
    "##################### CRIAR BASE DE DADOS EM SQLITE#####################\n",
    "import sqlite3\n",
    "from flask import jsonify\n",
    "\n",
    "def criaBanco():\n",
    "    banco = 'agenda.db'\n",
    "    try: \n",
    "        con = sqlite3.connect(banco)\n",
    "        print(f\"Banco {banco} criado com sucesso! \\n\")\n",
    "        con.close()\n",
    "    except:\n",
    "        return jsonify(f\"Não foi possível realizar a criação do Banco de dados {banco}\")\n",
    "\n",
    "criaBanco()"
   ]
  },
  {
   "cell_type": "markdown",
   "metadata": {},
   "source": [
    "![Criação do Banco de dados](./imagens/01-criacao-banco.png)"
   ]
  },
  {
   "cell_type": "markdown",
   "metadata": {},
   "source": [
    "### Criação da Tabela de Contatos"
   ]
  },
  {
   "cell_type": "code",
   "execution_count": null,
   "metadata": {},
   "outputs": [],
   "source": [
    "##################### Criar a tabela contatos (id, nome, empresa, telefone, email) #####################\n",
    "import sqlite3\n",
    "from flask import jsonify\n",
    "\n",
    "def criaTabelaContatos():\n",
    "    banco = \"agenda.db\"\n",
    "    tabela = \"contatos\"\n",
    "    \n",
    "    con = sqlite3.connect(banco)\n",
    "    print(f\"Conexao ao banco {banco} realizada com sucesso! \\n\")\n",
    "    cursor = con.cursor()\n",
    "    \n",
    "    cursor.execute(\n",
    "    f\"\"\"CREATE TABLE {tabela}(\n",
    "      id INTEGER NOT NULL PRIMARY KEY AUTOINCREMENT, \n",
    "      nome TEXT NOT NULL, \n",
    "      empresa TEXT NOT NULL, \n",
    "      telefone TEXT NOT NULL, \n",
    "      email TEXT NOT NULL)\"\"\")\n",
    "    print(f'Tabela {tabela} criada com sucesso.\\n')\n",
    "\n",
    "criaTabelaContatos()"
   ]
  },
  {
   "cell_type": "markdown",
   "metadata": {},
   "source": [
    "![Tabela](./imagens/02-criando-tabela.png)\n",
    "\n",
    "Visualizando a tabela no Banco:\n",
    "\n",
    "![Tabela](./imagens/03-exibindo-tabela-criada.png)"
   ]
  },
  {
   "cell_type": "markdown",
   "metadata": {},
   "source": [
    "### Inserindo alguns contatos no Banco de Dados para realizar as requisições"
   ]
  },
  {
   "cell_type": "code",
   "execution_count": null,
   "metadata": {},
   "outputs": [],
   "source": [
    "import sqlite3\n",
    "\n",
    "con = sqlite3.connect(\"agenda.db\")\n",
    "cursor = con.cursor()\n",
    "\n",
    "cursor.execute(\"\"\"\n",
    "    INSERT INTO contatos (nome, empresa, telefone, email)\n",
    "    VALUES\n",
    "        ('Anne', 'Una Aimores', '33991919191', 'anne@gmail.com')\n",
    "    \"\"\")\n",
    "con.commit()\n",
    "print('Valores adicionados com sucesso.\\n')\n",
    "con.close()"
   ]
  },
  {
   "cell_type": "markdown",
   "metadata": {},
   "source": [
    "![Registros](./imagens/04-adicionando-registros.png)\n",
    "\n",
    "Exibindo os registros no banco:\n",
    "\n",
    "![Registros no BD](./imagens/05-exibindo-registros.png)"
   ]
  },
  {
   "cell_type": "markdown",
   "metadata": {},
   "source": [
    "## Rodando a API"
   ]
  },
  {
   "cell_type": "markdown",
   "metadata": {},
   "source": [
    "![](./imagens/06-rodando-api.png)\n",
    "![](./imagens/07-informa%C3%A7%C3%B5es-api.png)"
   ]
  },
  {
   "cell_type": "markdown",
   "metadata": {},
   "source": [
    "## CRUD Completo"
   ]
  },
  {
   "cell_type": "markdown",
   "metadata": {},
   "source": [
    "### Adicionado Registro de um novo contato"
   ]
  },
  {
   "cell_type": "markdown",
   "metadata": {},
   "source": [
    "![post](./imagens/08-crud-criando-contato.png)"
   ]
  },
  {
   "cell_type": "markdown",
   "metadata": {},
   "source": [
    "![exibe-post](./imagens/09-crud-livia-criada.png)"
   ]
  },
  {
   "cell_type": "markdown",
   "metadata": {},
   "source": [
    "### Obtendo todos os contatos da Agenda"
   ]
  },
  {
   "cell_type": "markdown",
   "metadata": {},
   "source": [
    "![get](./imagens/10-crud-obtendo-todos-os-contatos.png)"
   ]
  },
  {
   "cell_type": "markdown",
   "metadata": {},
   "source": [
    "### Obtendo contatos da Agenda pelo id"
   ]
  },
  {
   "cell_type": "markdown",
   "metadata": {},
   "source": [
    "![getid](./imagens/11-crud-obtendo-contatos-com-id.png)"
   ]
  },
  {
   "cell_type": "markdown",
   "metadata": {},
   "source": [
    "### Atualizando contato da Agenda"
   ]
  },
  {
   "cell_type": "markdown",
   "metadata": {},
   "source": [
    "![update](./imagens/12-crud-atualizar-contato.png)"
   ]
  },
  {
   "cell_type": "markdown",
   "metadata": {},
   "source": [
    "### Deletando contato da Agenda"
   ]
  },
  {
   "cell_type": "markdown",
   "metadata": {},
   "source": [
    "![up](./imagens/13-crud-atualiza-contato.png)"
   ]
  },
  {
   "cell_type": "markdown",
   "metadata": {},
   "source": [
    "![del](./imagens/14-crud-exibir-contato-deletado.png)"
   ]
  },
  {
   "cell_type": "markdown",
   "metadata": {},
   "source": [
    "![Status do bd](./imagens/15-exibindo-sttatus-atual-do-banco.png)"
   ]
  },
  {
   "cell_type": "markdown",
   "metadata": {},
   "source": [
    "### Obtendo contato por nome"
   ]
  },
  {
   "cell_type": "markdown",
   "metadata": {},
   "source": [
    "![](./imagens/16-obtendo-por-nome.png)"
   ]
  },
  {
   "cell_type": "markdown",
   "metadata": {},
   "source": [
    "### Obtendo contato por empresa"
   ]
  },
  {
   "cell_type": "markdown",
   "metadata": {},
   "source": [
    "![](./imagens/17-otndo-por-empresa.png)"
   ]
  },
  {
   "cell_type": "markdown",
   "metadata": {},
   "source": [
    "### Obtendo contato por e-mail"
   ]
  },
  {
   "cell_type": "markdown",
   "metadata": {},
   "source": [
    "![](./imagens/18-obtendo-por-email.png)"
   ]
  },
  {
   "cell_type": "markdown",
   "metadata": {},
   "source": [
    "### Obtendo contatos agrupados por empresa"
   ]
  },
  {
   "cell_type": "markdown",
   "metadata": {},
   "source": [
    "![](./imagens/19-obtendo-por-empresa.png)"
   ]
  },
  {
   "cell_type": "markdown",
   "metadata": {},
   "source": [
    "### Exibindo os endpoints"
   ]
  },
  {
   "cell_type": "markdown",
   "metadata": {},
   "source": [
    "![](./imagens/20-exibe-endpoints.png)"
   ]
  }
 ],
 "metadata": {
  "kernelspec": {
   "display_name": "Python 3.10.5 64-bit",
   "language": "python",
   "name": "python3"
  },
  "language_info": {
   "name": "python",
   "version": "3.10.5"
  },
  "orig_nbformat": 4,
  "vscode": {
   "interpreter": {
    "hash": "d1d9262175893a3f9c089c524f593192d5b8538f6ec9ef6d8235214e3dc272a1"
   }
  }
 },
 "nbformat": 4,
 "nbformat_minor": 2
}
